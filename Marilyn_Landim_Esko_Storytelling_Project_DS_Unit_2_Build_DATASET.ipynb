{
  "nbformat": 4,
  "nbformat_minor": 0,
  "metadata": {
    "kernelspec": {
      "display_name": "Python [conda env:ML_python_3.7] *",
      "language": "python",
      "name": "conda-env-ML_python_3.7-py"
    },
    "language_info": {
      "codemirror_mode": {
        "name": "ipython",
        "version": 3
      },
      "file_extension": ".py",
      "mimetype": "text/x-python",
      "name": "python",
      "nbconvert_exporter": "python",
      "pygments_lexer": "ipython3",
      "version": "3.7.5"
    },
    "colab": {
      "name": "Marilyn_Landim_Esko_Storytelling_Project_DS_Unit_2_Build_DATASET.ipynb",
      "provenance": [],
      "include_colab_link": true
    }
  },
  "cells": [
    {
      "cell_type": "markdown",
      "metadata": {
        "id": "view-in-github",
        "colab_type": "text"
      },
      "source": [
        "<a href=\"https://colab.research.google.com/github/marilynle/DS-Unit-2-Build/blob/master/Marilyn_Landim_Esko_Storytelling_Project_DS_Unit_2_Build_DATASET.ipynb\" target=\"_parent\"><img src=\"https://colab.research.google.com/assets/colab-badge.svg\" alt=\"Open In Colab\"/></a>"
      ]
    },
    {
      "cell_type": "markdown",
      "metadata": {
        "id": "Cmvps3OT9Mpj",
        "colab_type": "text"
      },
      "source": [
        "# Microsoft (MSFT) stock price prediction"
      ]
    },
    {
      "cell_type": "markdown",
      "metadata": {
        "id": "8dnFqnHo9Mpn",
        "colab_type": "text"
      },
      "source": [
        "# Load data"
      ]
    },
    {
      "cell_type": "code",
      "metadata": {
        "id": "J_Rqm_JZ9Mpo",
        "colab_type": "code",
        "colab": {}
      },
      "source": [
        "import pandas as pd\n",
        "import numpy as np\n"
      ],
      "execution_count": 0,
      "outputs": []
    },
    {
      "cell_type": "code",
      "metadata": {
        "id": "MJiNjkoX9Mps",
        "colab_type": "code",
        "colab": {}
      },
      "source": [
        "Data colected from yahoo finance on 11/12/2019"
      ],
      "execution_count": 0,
      "outputs": []
    },
    {
      "cell_type": "code",
      "metadata": {
        "id": "R-AowrsM9Mpw",
        "colab_type": "code",
        "colab": {},
        "outputId": "1389cc72-9e28-4c4a-e61e-347af8a649c0"
      },
      "source": [
        "# Microsoft Corporation (MSFT)\n",
        "df = pd.read_csv (r'C:\\datasets\\MSFT.csv') \n",
        "\n",
        "# Apply datetime to date column\n",
        "df.loc[:, 'Date'] = pd.to_datetime(df['Date'],format='%Y-%m-%d')\n",
        "\n",
        "# Sort by date in ascending order\n",
        "df.sort_values(by='Date', inplace=True, ascending=True)\n",
        "\n",
        "# Rename column Adj Close as msft\n",
        "df.rename(columns={\"Date\":\"date\",\"Adj Close\":\"msft\",\"Open\":\"open_msft\",\"High\":\"high_msft\",\"Low\":\"low_msft\",\"Volume\":\"volume_msft\"}, inplace = True)\n",
        "\n",
        "# Drop column 'Close'\n",
        "df = df.drop(columns=['Close'])\n",
        "\n",
        "df.head()\n"
      ],
      "execution_count": 0,
      "outputs": [
        {
          "output_type": "execute_result",
          "data": {
            "text/html": [
              "<div>\n",
              "<style scoped>\n",
              "    .dataframe tbody tr th:only-of-type {\n",
              "        vertical-align: middle;\n",
              "    }\n",
              "\n",
              "    .dataframe tbody tr th {\n",
              "        vertical-align: top;\n",
              "    }\n",
              "\n",
              "    .dataframe thead th {\n",
              "        text-align: right;\n",
              "    }\n",
              "</style>\n",
              "<table border=\"1\" class=\"dataframe\">\n",
              "  <thead>\n",
              "    <tr style=\"text-align: right;\">\n",
              "      <th></th>\n",
              "      <th>date</th>\n",
              "      <th>open_msft</th>\n",
              "      <th>high_msft</th>\n",
              "      <th>low_msft</th>\n",
              "      <th>msft</th>\n",
              "      <th>volume_msft</th>\n",
              "    </tr>\n",
              "  </thead>\n",
              "  <tbody>\n",
              "    <tr>\n",
              "      <th>0</th>\n",
              "      <td>2000-11-13</td>\n",
              "      <td>33.34375</td>\n",
              "      <td>34.06250</td>\n",
              "      <td>32.203125</td>\n",
              "      <td>21.444250</td>\n",
              "      <td>83364800</td>\n",
              "    </tr>\n",
              "    <tr>\n",
              "      <th>1</th>\n",
              "      <td>2000-11-14</td>\n",
              "      <td>34.00000</td>\n",
              "      <td>34.90625</td>\n",
              "      <td>33.656250</td>\n",
              "      <td>22.210835</td>\n",
              "      <td>84218600</td>\n",
              "    </tr>\n",
              "    <tr>\n",
              "      <th>2</th>\n",
              "      <td>2000-11-15</td>\n",
              "      <td>34.53125</td>\n",
              "      <td>35.43750</td>\n",
              "      <td>34.343750</td>\n",
              "      <td>22.614307</td>\n",
              "      <td>60422200</td>\n",
              "    </tr>\n",
              "    <tr>\n",
              "      <th>3</th>\n",
              "      <td>2000-11-16</td>\n",
              "      <td>34.71875</td>\n",
              "      <td>35.75000</td>\n",
              "      <td>34.468750</td>\n",
              "      <td>22.251186</td>\n",
              "      <td>92128600</td>\n",
              "    </tr>\n",
              "    <tr>\n",
              "      <th>4</th>\n",
              "      <td>2000-11-17</td>\n",
              "      <td>34.71875</td>\n",
              "      <td>35.00000</td>\n",
              "      <td>33.898438</td>\n",
              "      <td>22.291533</td>\n",
              "      <td>106525600</td>\n",
              "    </tr>\n",
              "  </tbody>\n",
              "</table>\n",
              "</div>"
            ],
            "text/plain": [
              "        date  open_msft  high_msft   low_msft       msft  volume_msft\n",
              "0 2000-11-13   33.34375   34.06250  32.203125  21.444250     83364800\n",
              "1 2000-11-14   34.00000   34.90625  33.656250  22.210835     84218600\n",
              "2 2000-11-15   34.53125   35.43750  34.343750  22.614307     60422200\n",
              "3 2000-11-16   34.71875   35.75000  34.468750  22.251186     92128600\n",
              "4 2000-11-17   34.71875   35.00000  33.898438  22.291533    106525600"
            ]
          },
          "metadata": {
            "tags": []
          },
          "execution_count": 2
        }
      ]
    },
    {
      "cell_type": "code",
      "metadata": {
        "id": "LIXBb4oM9Mp1",
        "colab_type": "code",
        "colab": {},
        "outputId": "eccb453e-2b9a-433d-9d19-f1f62f6cce2e"
      },
      "source": [
        "# Apple Inc. (AAPL)\n",
        "AAPL_df = pd.read_csv (r'C:\\datasets\\AAPL.csv') \n",
        "AAPL_df = pd.DataFrame(AAPL_df, columns= ['Adj Close'])\n",
        "AAPL_df.head(2)\n"
      ],
      "execution_count": 0,
      "outputs": [
        {
          "output_type": "execute_result",
          "data": {
            "text/html": [
              "<div>\n",
              "<style scoped>\n",
              "    .dataframe tbody tr th:only-of-type {\n",
              "        vertical-align: middle;\n",
              "    }\n",
              "\n",
              "    .dataframe tbody tr th {\n",
              "        vertical-align: top;\n",
              "    }\n",
              "\n",
              "    .dataframe thead th {\n",
              "        text-align: right;\n",
              "    }\n",
              "</style>\n",
              "<table border=\"1\" class=\"dataframe\">\n",
              "  <thead>\n",
              "    <tr style=\"text-align: right;\">\n",
              "      <th></th>\n",
              "      <th>Adj Close</th>\n",
              "    </tr>\n",
              "  </thead>\n",
              "  <tbody>\n",
              "    <tr>\n",
              "      <th>0</th>\n",
              "      <td>1.204157</td>\n",
              "    </tr>\n",
              "    <tr>\n",
              "      <th>1</th>\n",
              "      <td>1.258539</td>\n",
              "    </tr>\n",
              "  </tbody>\n",
              "</table>\n",
              "</div>"
            ],
            "text/plain": [
              "   Adj Close\n",
              "0   1.204157\n",
              "1   1.258539"
            ]
          },
          "metadata": {
            "tags": []
          },
          "execution_count": 3
        }
      ]
    },
    {
      "cell_type": "code",
      "metadata": {
        "id": "SRiwREmO9Mp4",
        "colab_type": "code",
        "colab": {},
        "outputId": "f40e136b-36a6-4f69-db2b-d6c95ff0320c"
      },
      "source": [
        "df = df.join(AAPL_df)\n",
        "df.rename(columns={\"Adj Close\":\"aapl\"}, inplace = True)\n",
        "df.head(2)\n"
      ],
      "execution_count": 0,
      "outputs": [
        {
          "output_type": "execute_result",
          "data": {
            "text/html": [
              "<div>\n",
              "<style scoped>\n",
              "    .dataframe tbody tr th:only-of-type {\n",
              "        vertical-align: middle;\n",
              "    }\n",
              "\n",
              "    .dataframe tbody tr th {\n",
              "        vertical-align: top;\n",
              "    }\n",
              "\n",
              "    .dataframe thead th {\n",
              "        text-align: right;\n",
              "    }\n",
              "</style>\n",
              "<table border=\"1\" class=\"dataframe\">\n",
              "  <thead>\n",
              "    <tr style=\"text-align: right;\">\n",
              "      <th></th>\n",
              "      <th>date</th>\n",
              "      <th>open_msft</th>\n",
              "      <th>high_msft</th>\n",
              "      <th>low_msft</th>\n",
              "      <th>msft</th>\n",
              "      <th>volume_msft</th>\n",
              "      <th>aapl</th>\n",
              "    </tr>\n",
              "  </thead>\n",
              "  <tbody>\n",
              "    <tr>\n",
              "      <th>0</th>\n",
              "      <td>2000-11-13</td>\n",
              "      <td>33.34375</td>\n",
              "      <td>34.06250</td>\n",
              "      <td>32.203125</td>\n",
              "      <td>21.444250</td>\n",
              "      <td>83364800</td>\n",
              "      <td>1.204157</td>\n",
              "    </tr>\n",
              "    <tr>\n",
              "      <th>1</th>\n",
              "      <td>2000-11-14</td>\n",
              "      <td>34.00000</td>\n",
              "      <td>34.90625</td>\n",
              "      <td>33.656250</td>\n",
              "      <td>22.210835</td>\n",
              "      <td>84218600</td>\n",
              "      <td>1.258539</td>\n",
              "    </tr>\n",
              "  </tbody>\n",
              "</table>\n",
              "</div>"
            ],
            "text/plain": [
              "        date  open_msft  high_msft   low_msft       msft  volume_msft  \\\n",
              "0 2000-11-13   33.34375   34.06250  32.203125  21.444250     83364800   \n",
              "1 2000-11-14   34.00000   34.90625  33.656250  22.210835     84218600   \n",
              "\n",
              "       aapl  \n",
              "0  1.204157  \n",
              "1  1.258539  "
            ]
          },
          "metadata": {
            "tags": []
          },
          "execution_count": 4
        }
      ]
    },
    {
      "cell_type": "code",
      "metadata": {
        "id": "4I1J-SgN9Mp7",
        "colab_type": "code",
        "colab": {},
        "outputId": "aec4df41-07ca-4fb0-b3bb-6f6ec8f9efc9"
      },
      "source": [
        "# Amazon.com, Inc. (AMZN)\n",
        "AMZN_df = pd.read_csv (r'C:\\datasets\\AMZN.csv') \n",
        "AMZN_df = pd.DataFrame(AMZN_df, columns= ['Adj Close'])\n",
        "AMZN_df.rename(columns={\"Adj Close\":\"amzn\"}, inplace = True)\n",
        "AMZN_df.head(2)\n"
      ],
      "execution_count": 0,
      "outputs": [
        {
          "output_type": "execute_result",
          "data": {
            "text/html": [
              "<div>\n",
              "<style scoped>\n",
              "    .dataframe tbody tr th:only-of-type {\n",
              "        vertical-align: middle;\n",
              "    }\n",
              "\n",
              "    .dataframe tbody tr th {\n",
              "        vertical-align: top;\n",
              "    }\n",
              "\n",
              "    .dataframe thead th {\n",
              "        text-align: right;\n",
              "    }\n",
              "</style>\n",
              "<table border=\"1\" class=\"dataframe\">\n",
              "  <thead>\n",
              "    <tr style=\"text-align: right;\">\n",
              "      <th></th>\n",
              "      <th>amzn</th>\n",
              "    </tr>\n",
              "  </thead>\n",
              "  <tbody>\n",
              "    <tr>\n",
              "      <th>0</th>\n",
              "      <td>27.8125</td>\n",
              "    </tr>\n",
              "    <tr>\n",
              "      <th>1</th>\n",
              "      <td>28.9375</td>\n",
              "    </tr>\n",
              "  </tbody>\n",
              "</table>\n",
              "</div>"
            ],
            "text/plain": [
              "      amzn\n",
              "0  27.8125\n",
              "1  28.9375"
            ]
          },
          "metadata": {
            "tags": []
          },
          "execution_count": 5
        }
      ]
    },
    {
      "cell_type": "code",
      "metadata": {
        "id": "KazMcREi9Mp-",
        "colab_type": "code",
        "colab": {},
        "outputId": "a3053411-6a4c-4433-d0a8-be8e208d2f52"
      },
      "source": [
        "df= df.join(AMZN_df)\n",
        "df.head(2)\n"
      ],
      "execution_count": 0,
      "outputs": [
        {
          "output_type": "execute_result",
          "data": {
            "text/html": [
              "<div>\n",
              "<style scoped>\n",
              "    .dataframe tbody tr th:only-of-type {\n",
              "        vertical-align: middle;\n",
              "    }\n",
              "\n",
              "    .dataframe tbody tr th {\n",
              "        vertical-align: top;\n",
              "    }\n",
              "\n",
              "    .dataframe thead th {\n",
              "        text-align: right;\n",
              "    }\n",
              "</style>\n",
              "<table border=\"1\" class=\"dataframe\">\n",
              "  <thead>\n",
              "    <tr style=\"text-align: right;\">\n",
              "      <th></th>\n",
              "      <th>date</th>\n",
              "      <th>open_msft</th>\n",
              "      <th>high_msft</th>\n",
              "      <th>low_msft</th>\n",
              "      <th>msft</th>\n",
              "      <th>volume_msft</th>\n",
              "      <th>aapl</th>\n",
              "      <th>amzn</th>\n",
              "    </tr>\n",
              "  </thead>\n",
              "  <tbody>\n",
              "    <tr>\n",
              "      <th>0</th>\n",
              "      <td>2000-11-13</td>\n",
              "      <td>33.34375</td>\n",
              "      <td>34.06250</td>\n",
              "      <td>32.203125</td>\n",
              "      <td>21.444250</td>\n",
              "      <td>83364800</td>\n",
              "      <td>1.204157</td>\n",
              "      <td>27.8125</td>\n",
              "    </tr>\n",
              "    <tr>\n",
              "      <th>1</th>\n",
              "      <td>2000-11-14</td>\n",
              "      <td>34.00000</td>\n",
              "      <td>34.90625</td>\n",
              "      <td>33.656250</td>\n",
              "      <td>22.210835</td>\n",
              "      <td>84218600</td>\n",
              "      <td>1.258539</td>\n",
              "      <td>28.9375</td>\n",
              "    </tr>\n",
              "  </tbody>\n",
              "</table>\n",
              "</div>"
            ],
            "text/plain": [
              "        date  open_msft  high_msft   low_msft       msft  volume_msft  \\\n",
              "0 2000-11-13   33.34375   34.06250  32.203125  21.444250     83364800   \n",
              "1 2000-11-14   34.00000   34.90625  33.656250  22.210835     84218600   \n",
              "\n",
              "       aapl     amzn  \n",
              "0  1.204157  27.8125  \n",
              "1  1.258539  28.9375  "
            ]
          },
          "metadata": {
            "tags": []
          },
          "execution_count": 6
        }
      ]
    },
    {
      "cell_type": "code",
      "metadata": {
        "id": "gvbo32iM9MqB",
        "colab_type": "code",
        "colab": {},
        "outputId": "a7d03e05-6ea0-4573-82b9-b6765191dc6a"
      },
      "source": [
        "# Oracle Corporation (ORCL)\n",
        "ORCL_df = pd.read_csv (r'C:\\datasets\\ORCL.csv') \n",
        "ORCL_df = pd.DataFrame(ORCL_df, columns= ['Adj Close'])\n",
        "ORCL_df.rename(columns={\"Adj Close\":\"orcl\"}, inplace = True)\n",
        "ORCL_df.head(2)"
      ],
      "execution_count": 0,
      "outputs": [
        {
          "output_type": "execute_result",
          "data": {
            "text/html": [
              "<div>\n",
              "<style scoped>\n",
              "    .dataframe tbody tr th:only-of-type {\n",
              "        vertical-align: middle;\n",
              "    }\n",
              "\n",
              "    .dataframe tbody tr th {\n",
              "        vertical-align: top;\n",
              "    }\n",
              "\n",
              "    .dataframe thead th {\n",
              "        text-align: right;\n",
              "    }\n",
              "</style>\n",
              "<table border=\"1\" class=\"dataframe\">\n",
              "  <thead>\n",
              "    <tr style=\"text-align: right;\">\n",
              "      <th></th>\n",
              "      <th>orcl</th>\n",
              "    </tr>\n",
              "  </thead>\n",
              "  <tbody>\n",
              "    <tr>\n",
              "      <th>0</th>\n",
              "      <td>21.645746</td>\n",
              "    </tr>\n",
              "    <tr>\n",
              "      <th>1</th>\n",
              "      <td>24.816080</td>\n",
              "    </tr>\n",
              "  </tbody>\n",
              "</table>\n",
              "</div>"
            ],
            "text/plain": [
              "        orcl\n",
              "0  21.645746\n",
              "1  24.816080"
            ]
          },
          "metadata": {
            "tags": []
          },
          "execution_count": 7
        }
      ]
    },
    {
      "cell_type": "code",
      "metadata": {
        "id": "OCk0LCNC9MqF",
        "colab_type": "code",
        "colab": {},
        "outputId": "e97fbb7b-25e3-498d-960e-e134e65828d7"
      },
      "source": [
        "df= df.join(ORCL_df)\n",
        "df.head(2)"
      ],
      "execution_count": 0,
      "outputs": [
        {
          "output_type": "execute_result",
          "data": {
            "text/html": [
              "<div>\n",
              "<style scoped>\n",
              "    .dataframe tbody tr th:only-of-type {\n",
              "        vertical-align: middle;\n",
              "    }\n",
              "\n",
              "    .dataframe tbody tr th {\n",
              "        vertical-align: top;\n",
              "    }\n",
              "\n",
              "    .dataframe thead th {\n",
              "        text-align: right;\n",
              "    }\n",
              "</style>\n",
              "<table border=\"1\" class=\"dataframe\">\n",
              "  <thead>\n",
              "    <tr style=\"text-align: right;\">\n",
              "      <th></th>\n",
              "      <th>date</th>\n",
              "      <th>open_msft</th>\n",
              "      <th>high_msft</th>\n",
              "      <th>low_msft</th>\n",
              "      <th>msft</th>\n",
              "      <th>volume_msft</th>\n",
              "      <th>aapl</th>\n",
              "      <th>amzn</th>\n",
              "      <th>orcl</th>\n",
              "    </tr>\n",
              "  </thead>\n",
              "  <tbody>\n",
              "    <tr>\n",
              "      <th>0</th>\n",
              "      <td>2000-11-13</td>\n",
              "      <td>33.34375</td>\n",
              "      <td>34.06250</td>\n",
              "      <td>32.203125</td>\n",
              "      <td>21.444250</td>\n",
              "      <td>83364800</td>\n",
              "      <td>1.204157</td>\n",
              "      <td>27.8125</td>\n",
              "      <td>21.645746</td>\n",
              "    </tr>\n",
              "    <tr>\n",
              "      <th>1</th>\n",
              "      <td>2000-11-14</td>\n",
              "      <td>34.00000</td>\n",
              "      <td>34.90625</td>\n",
              "      <td>33.656250</td>\n",
              "      <td>22.210835</td>\n",
              "      <td>84218600</td>\n",
              "      <td>1.258539</td>\n",
              "      <td>28.9375</td>\n",
              "      <td>24.816080</td>\n",
              "    </tr>\n",
              "  </tbody>\n",
              "</table>\n",
              "</div>"
            ],
            "text/plain": [
              "        date  open_msft  high_msft   low_msft       msft  volume_msft  \\\n",
              "0 2000-11-13   33.34375   34.06250  32.203125  21.444250     83364800   \n",
              "1 2000-11-14   34.00000   34.90625  33.656250  22.210835     84218600   \n",
              "\n",
              "       aapl     amzn       orcl  \n",
              "0  1.204157  27.8125  21.645746  \n",
              "1  1.258539  28.9375  24.816080  "
            ]
          },
          "metadata": {
            "tags": []
          },
          "execution_count": 8
        }
      ]
    },
    {
      "cell_type": "code",
      "metadata": {
        "id": "YMZglxqx9MqI",
        "colab_type": "code",
        "colab": {},
        "outputId": "0b89f948-f263-45ea-a8ab-2b86c1a1e7fc"
      },
      "source": [
        "# International Business Machines Corporation (IBM)\n",
        "IBM_df = pd.read_csv (r'C:\\datasets\\IBM.csv') \n",
        "IBM_df = pd.DataFrame(IBM_df, columns= ['Adj Close'])\n",
        "IBM_df.rename(columns={\"Adj Close\":\"ibm\"}, inplace = True)\n",
        "IBM_df.head(2)\n"
      ],
      "execution_count": 0,
      "outputs": [
        {
          "output_type": "execute_result",
          "data": {
            "text/html": [
              "<div>\n",
              "<style scoped>\n",
              "    .dataframe tbody tr th:only-of-type {\n",
              "        vertical-align: middle;\n",
              "    }\n",
              "\n",
              "    .dataframe tbody tr th {\n",
              "        vertical-align: top;\n",
              "    }\n",
              "\n",
              "    .dataframe thead th {\n",
              "        text-align: right;\n",
              "    }\n",
              "</style>\n",
              "<table border=\"1\" class=\"dataframe\">\n",
              "  <thead>\n",
              "    <tr style=\"text-align: right;\">\n",
              "      <th></th>\n",
              "      <th>ibm</th>\n",
              "    </tr>\n",
              "  </thead>\n",
              "  <tbody>\n",
              "    <tr>\n",
              "      <th>0</th>\n",
              "      <td>64.482780</td>\n",
              "    </tr>\n",
              "    <tr>\n",
              "      <th>1</th>\n",
              "      <td>65.847733</td>\n",
              "    </tr>\n",
              "  </tbody>\n",
              "</table>\n",
              "</div>"
            ],
            "text/plain": [
              "         ibm\n",
              "0  64.482780\n",
              "1  65.847733"
            ]
          },
          "metadata": {
            "tags": []
          },
          "execution_count": 9
        }
      ]
    },
    {
      "cell_type": "code",
      "metadata": {
        "id": "ttA9Qsf29MqN",
        "colab_type": "code",
        "colab": {},
        "outputId": "d6253944-bc76-48b4-fb9b-25e23cdc00e1"
      },
      "source": [
        "df= df.join(IBM_df)\n",
        "df.head(2)"
      ],
      "execution_count": 0,
      "outputs": [
        {
          "output_type": "execute_result",
          "data": {
            "text/html": [
              "<div>\n",
              "<style scoped>\n",
              "    .dataframe tbody tr th:only-of-type {\n",
              "        vertical-align: middle;\n",
              "    }\n",
              "\n",
              "    .dataframe tbody tr th {\n",
              "        vertical-align: top;\n",
              "    }\n",
              "\n",
              "    .dataframe thead th {\n",
              "        text-align: right;\n",
              "    }\n",
              "</style>\n",
              "<table border=\"1\" class=\"dataframe\">\n",
              "  <thead>\n",
              "    <tr style=\"text-align: right;\">\n",
              "      <th></th>\n",
              "      <th>date</th>\n",
              "      <th>open_msft</th>\n",
              "      <th>high_msft</th>\n",
              "      <th>low_msft</th>\n",
              "      <th>msft</th>\n",
              "      <th>volume_msft</th>\n",
              "      <th>aapl</th>\n",
              "      <th>amzn</th>\n",
              "      <th>orcl</th>\n",
              "      <th>ibm</th>\n",
              "    </tr>\n",
              "  </thead>\n",
              "  <tbody>\n",
              "    <tr>\n",
              "      <th>0</th>\n",
              "      <td>2000-11-13</td>\n",
              "      <td>33.34375</td>\n",
              "      <td>34.06250</td>\n",
              "      <td>32.203125</td>\n",
              "      <td>21.444250</td>\n",
              "      <td>83364800</td>\n",
              "      <td>1.204157</td>\n",
              "      <td>27.8125</td>\n",
              "      <td>21.645746</td>\n",
              "      <td>64.482780</td>\n",
              "    </tr>\n",
              "    <tr>\n",
              "      <th>1</th>\n",
              "      <td>2000-11-14</td>\n",
              "      <td>34.00000</td>\n",
              "      <td>34.90625</td>\n",
              "      <td>33.656250</td>\n",
              "      <td>22.210835</td>\n",
              "      <td>84218600</td>\n",
              "      <td>1.258539</td>\n",
              "      <td>28.9375</td>\n",
              "      <td>24.816080</td>\n",
              "      <td>65.847733</td>\n",
              "    </tr>\n",
              "  </tbody>\n",
              "</table>\n",
              "</div>"
            ],
            "text/plain": [
              "        date  open_msft  high_msft   low_msft       msft  volume_msft  \\\n",
              "0 2000-11-13   33.34375   34.06250  32.203125  21.444250     83364800   \n",
              "1 2000-11-14   34.00000   34.90625  33.656250  22.210835     84218600   \n",
              "\n",
              "       aapl     amzn       orcl        ibm  \n",
              "0  1.204157  27.8125  21.645746  64.482780  \n",
              "1  1.258539  28.9375  24.816080  65.847733  "
            ]
          },
          "metadata": {
            "tags": []
          },
          "execution_count": 10
        }
      ]
    },
    {
      "cell_type": "code",
      "metadata": {
        "id": "goov69N89MqQ",
        "colab_type": "code",
        "colab": {},
        "outputId": "b690d325-c085-41f2-ef23-13dbb06d35be"
      },
      "source": [
        "# Johnson & Johnson (JNJ)\n",
        "JNJ_df = pd.read_csv (r'C:\\datasets\\JNJ.csv') \n",
        "JNJ_df = pd.DataFrame(JNJ_df, columns= ['Adj Close'])\n",
        "JNJ_df.rename(columns={\"Adj Close\":\"jnj\"}, inplace = True)\n",
        "JNJ_df.head(2)"
      ],
      "execution_count": 0,
      "outputs": [
        {
          "output_type": "execute_result",
          "data": {
            "text/html": [
              "<div>\n",
              "<style scoped>\n",
              "    .dataframe tbody tr th:only-of-type {\n",
              "        vertical-align: middle;\n",
              "    }\n",
              "\n",
              "    .dataframe tbody tr th {\n",
              "        vertical-align: top;\n",
              "    }\n",
              "\n",
              "    .dataframe thead th {\n",
              "        text-align: right;\n",
              "    }\n",
              "</style>\n",
              "<table border=\"1\" class=\"dataframe\">\n",
              "  <thead>\n",
              "    <tr style=\"text-align: right;\">\n",
              "      <th></th>\n",
              "      <th>jnj</th>\n",
              "    </tr>\n",
              "  </thead>\n",
              "  <tbody>\n",
              "    <tr>\n",
              "      <th>0</th>\n",
              "      <td>28.172709</td>\n",
              "    </tr>\n",
              "    <tr>\n",
              "      <th>1</th>\n",
              "      <td>28.645721</td>\n",
              "    </tr>\n",
              "  </tbody>\n",
              "</table>\n",
              "</div>"
            ],
            "text/plain": [
              "         jnj\n",
              "0  28.172709\n",
              "1  28.645721"
            ]
          },
          "metadata": {
            "tags": []
          },
          "execution_count": 11
        }
      ]
    },
    {
      "cell_type": "code",
      "metadata": {
        "id": "K0GyI0SE9MqS",
        "colab_type": "code",
        "colab": {},
        "outputId": "5121a9c1-de82-4a2e-99a2-9fce453e76c9"
      },
      "source": [
        "df= df.join(JNJ_df)\n",
        "df.head(2)"
      ],
      "execution_count": 0,
      "outputs": [
        {
          "output_type": "execute_result",
          "data": {
            "text/html": [
              "<div>\n",
              "<style scoped>\n",
              "    .dataframe tbody tr th:only-of-type {\n",
              "        vertical-align: middle;\n",
              "    }\n",
              "\n",
              "    .dataframe tbody tr th {\n",
              "        vertical-align: top;\n",
              "    }\n",
              "\n",
              "    .dataframe thead th {\n",
              "        text-align: right;\n",
              "    }\n",
              "</style>\n",
              "<table border=\"1\" class=\"dataframe\">\n",
              "  <thead>\n",
              "    <tr style=\"text-align: right;\">\n",
              "      <th></th>\n",
              "      <th>date</th>\n",
              "      <th>open_msft</th>\n",
              "      <th>high_msft</th>\n",
              "      <th>low_msft</th>\n",
              "      <th>msft</th>\n",
              "      <th>volume_msft</th>\n",
              "      <th>aapl</th>\n",
              "      <th>amzn</th>\n",
              "      <th>orcl</th>\n",
              "      <th>ibm</th>\n",
              "      <th>jnj</th>\n",
              "    </tr>\n",
              "  </thead>\n",
              "  <tbody>\n",
              "    <tr>\n",
              "      <th>0</th>\n",
              "      <td>2000-11-13</td>\n",
              "      <td>33.34375</td>\n",
              "      <td>34.06250</td>\n",
              "      <td>32.203125</td>\n",
              "      <td>21.444250</td>\n",
              "      <td>83364800</td>\n",
              "      <td>1.204157</td>\n",
              "      <td>27.8125</td>\n",
              "      <td>21.645746</td>\n",
              "      <td>64.482780</td>\n",
              "      <td>28.172709</td>\n",
              "    </tr>\n",
              "    <tr>\n",
              "      <th>1</th>\n",
              "      <td>2000-11-14</td>\n",
              "      <td>34.00000</td>\n",
              "      <td>34.90625</td>\n",
              "      <td>33.656250</td>\n",
              "      <td>22.210835</td>\n",
              "      <td>84218600</td>\n",
              "      <td>1.258539</td>\n",
              "      <td>28.9375</td>\n",
              "      <td>24.816080</td>\n",
              "      <td>65.847733</td>\n",
              "      <td>28.645721</td>\n",
              "    </tr>\n",
              "  </tbody>\n",
              "</table>\n",
              "</div>"
            ],
            "text/plain": [
              "        date  open_msft  high_msft   low_msft       msft  volume_msft  \\\n",
              "0 2000-11-13   33.34375   34.06250  32.203125  21.444250     83364800   \n",
              "1 2000-11-14   34.00000   34.90625  33.656250  22.210835     84218600   \n",
              "\n",
              "       aapl     amzn       orcl        ibm        jnj  \n",
              "0  1.204157  27.8125  21.645746  64.482780  28.172709  \n",
              "1  1.258539  28.9375  24.816080  65.847733  28.645721  "
            ]
          },
          "metadata": {
            "tags": []
          },
          "execution_count": 12
        }
      ]
    },
    {
      "cell_type": "code",
      "metadata": {
        "id": "cUq0vStZ9MqU",
        "colab_type": "code",
        "colab": {},
        "outputId": "7c0cdc3e-3bd2-41cb-a791-763cd9e50916"
      },
      "source": [
        "# CVS Health Corporation (CVS)\n",
        "CVS_df = pd.read_csv (r'C:\\datasets\\CVS.csv') \n",
        "CVS_df = pd.DataFrame(CVS_df, columns= ['Adj Close'])\n",
        "CVS_df.rename(columns={\"Adj Close\":\"cvs\"}, inplace = True)\n",
        "CVS_df.head()"
      ],
      "execution_count": 0,
      "outputs": [
        {
          "output_type": "execute_result",
          "data": {
            "text/html": [
              "<div>\n",
              "<style scoped>\n",
              "    .dataframe tbody tr th:only-of-type {\n",
              "        vertical-align: middle;\n",
              "    }\n",
              "\n",
              "    .dataframe tbody tr th {\n",
              "        vertical-align: top;\n",
              "    }\n",
              "\n",
              "    .dataframe thead th {\n",
              "        text-align: right;\n",
              "    }\n",
              "</style>\n",
              "<table border=\"1\" class=\"dataframe\">\n",
              "  <thead>\n",
              "    <tr style=\"text-align: right;\">\n",
              "      <th></th>\n",
              "      <th>cvs</th>\n",
              "    </tr>\n",
              "  </thead>\n",
              "  <tbody>\n",
              "    <tr>\n",
              "      <th>0</th>\n",
              "      <td>21.310297</td>\n",
              "    </tr>\n",
              "    <tr>\n",
              "      <th>1</th>\n",
              "      <td>21.286823</td>\n",
              "    </tr>\n",
              "    <tr>\n",
              "      <th>2</th>\n",
              "      <td>20.254168</td>\n",
              "    </tr>\n",
              "    <tr>\n",
              "      <th>3</th>\n",
              "      <td>20.066416</td>\n",
              "    </tr>\n",
              "    <tr>\n",
              "      <th>4</th>\n",
              "      <td>19.690907</td>\n",
              "    </tr>\n",
              "  </tbody>\n",
              "</table>\n",
              "</div>"
            ],
            "text/plain": [
              "         cvs\n",
              "0  21.310297\n",
              "1  21.286823\n",
              "2  20.254168\n",
              "3  20.066416\n",
              "4  19.690907"
            ]
          },
          "metadata": {
            "tags": []
          },
          "execution_count": 13
        }
      ]
    },
    {
      "cell_type": "code",
      "metadata": {
        "id": "xCCjPQub9MqX",
        "colab_type": "code",
        "colab": {},
        "outputId": "da297aa5-1579-4e0f-f916-6ebaa0070b17"
      },
      "source": [
        "df= df.join(CVS_df)\n",
        "df.head(2)"
      ],
      "execution_count": 0,
      "outputs": [
        {
          "output_type": "execute_result",
          "data": {
            "text/html": [
              "<div>\n",
              "<style scoped>\n",
              "    .dataframe tbody tr th:only-of-type {\n",
              "        vertical-align: middle;\n",
              "    }\n",
              "\n",
              "    .dataframe tbody tr th {\n",
              "        vertical-align: top;\n",
              "    }\n",
              "\n",
              "    .dataframe thead th {\n",
              "        text-align: right;\n",
              "    }\n",
              "</style>\n",
              "<table border=\"1\" class=\"dataframe\">\n",
              "  <thead>\n",
              "    <tr style=\"text-align: right;\">\n",
              "      <th></th>\n",
              "      <th>date</th>\n",
              "      <th>open_msft</th>\n",
              "      <th>high_msft</th>\n",
              "      <th>low_msft</th>\n",
              "      <th>msft</th>\n",
              "      <th>volume_msft</th>\n",
              "      <th>aapl</th>\n",
              "      <th>amzn</th>\n",
              "      <th>orcl</th>\n",
              "      <th>ibm</th>\n",
              "      <th>jnj</th>\n",
              "      <th>cvs</th>\n",
              "    </tr>\n",
              "  </thead>\n",
              "  <tbody>\n",
              "    <tr>\n",
              "      <th>0</th>\n",
              "      <td>2000-11-13</td>\n",
              "      <td>33.34375</td>\n",
              "      <td>34.06250</td>\n",
              "      <td>32.203125</td>\n",
              "      <td>21.444250</td>\n",
              "      <td>83364800</td>\n",
              "      <td>1.204157</td>\n",
              "      <td>27.8125</td>\n",
              "      <td>21.645746</td>\n",
              "      <td>64.482780</td>\n",
              "      <td>28.172709</td>\n",
              "      <td>21.310297</td>\n",
              "    </tr>\n",
              "    <tr>\n",
              "      <th>1</th>\n",
              "      <td>2000-11-14</td>\n",
              "      <td>34.00000</td>\n",
              "      <td>34.90625</td>\n",
              "      <td>33.656250</td>\n",
              "      <td>22.210835</td>\n",
              "      <td>84218600</td>\n",
              "      <td>1.258539</td>\n",
              "      <td>28.9375</td>\n",
              "      <td>24.816080</td>\n",
              "      <td>65.847733</td>\n",
              "      <td>28.645721</td>\n",
              "      <td>21.286823</td>\n",
              "    </tr>\n",
              "  </tbody>\n",
              "</table>\n",
              "</div>"
            ],
            "text/plain": [
              "        date  open_msft  high_msft   low_msft       msft  volume_msft  \\\n",
              "0 2000-11-13   33.34375   34.06250  32.203125  21.444250     83364800   \n",
              "1 2000-11-14   34.00000   34.90625  33.656250  22.210835     84218600   \n",
              "\n",
              "       aapl     amzn       orcl        ibm        jnj        cvs  \n",
              "0  1.204157  27.8125  21.645746  64.482780  28.172709  21.310297  \n",
              "1  1.258539  28.9375  24.816080  65.847733  28.645721  21.286823  "
            ]
          },
          "metadata": {
            "tags": []
          },
          "execution_count": 14
        }
      ]
    },
    {
      "cell_type": "code",
      "metadata": {
        "id": "nekiwOZo9Mqa",
        "colab_type": "code",
        "colab": {},
        "outputId": "00af0bf0-5956-4e6a-9c2e-aa9ed2de4615"
      },
      "source": [
        "# The Coca-Cola Company (KO)\n",
        "KO_df = pd.read_csv (r'C:\\datasets\\KO.csv') \n",
        "KO_df = pd.DataFrame(KO_df, columns= ['Adj Close'])\n",
        "KO_df.rename(columns={\"Adj Close\":\"ko\"}, inplace = True)\n",
        "KO_df.head(2)"
      ],
      "execution_count": 0,
      "outputs": [
        {
          "output_type": "execute_result",
          "data": {
            "text/html": [
              "<div>\n",
              "<style scoped>\n",
              "    .dataframe tbody tr th:only-of-type {\n",
              "        vertical-align: middle;\n",
              "    }\n",
              "\n",
              "    .dataframe tbody tr th {\n",
              "        vertical-align: top;\n",
              "    }\n",
              "\n",
              "    .dataframe thead th {\n",
              "        text-align: right;\n",
              "    }\n",
              "</style>\n",
              "<table border=\"1\" class=\"dataframe\">\n",
              "  <thead>\n",
              "    <tr style=\"text-align: right;\">\n",
              "      <th></th>\n",
              "      <th>ko</th>\n",
              "    </tr>\n",
              "  </thead>\n",
              "  <tbody>\n",
              "    <tr>\n",
              "      <th>0</th>\n",
              "      <td>13.498687</td>\n",
              "    </tr>\n",
              "    <tr>\n",
              "      <th>1</th>\n",
              "      <td>13.388154</td>\n",
              "    </tr>\n",
              "  </tbody>\n",
              "</table>\n",
              "</div>"
            ],
            "text/plain": [
              "          ko\n",
              "0  13.498687\n",
              "1  13.388154"
            ]
          },
          "metadata": {
            "tags": []
          },
          "execution_count": 15
        }
      ]
    },
    {
      "cell_type": "code",
      "metadata": {
        "id": "5ctadzjc9Mqc",
        "colab_type": "code",
        "colab": {},
        "outputId": "aa30802e-7d91-41e9-eeba-efe401d34331"
      },
      "source": [
        "df= df.join(KO_df)\n",
        "df.head(2)"
      ],
      "execution_count": 0,
      "outputs": [
        {
          "output_type": "execute_result",
          "data": {
            "text/html": [
              "<div>\n",
              "<style scoped>\n",
              "    .dataframe tbody tr th:only-of-type {\n",
              "        vertical-align: middle;\n",
              "    }\n",
              "\n",
              "    .dataframe tbody tr th {\n",
              "        vertical-align: top;\n",
              "    }\n",
              "\n",
              "    .dataframe thead th {\n",
              "        text-align: right;\n",
              "    }\n",
              "</style>\n",
              "<table border=\"1\" class=\"dataframe\">\n",
              "  <thead>\n",
              "    <tr style=\"text-align: right;\">\n",
              "      <th></th>\n",
              "      <th>date</th>\n",
              "      <th>open_msft</th>\n",
              "      <th>high_msft</th>\n",
              "      <th>low_msft</th>\n",
              "      <th>msft</th>\n",
              "      <th>volume_msft</th>\n",
              "      <th>aapl</th>\n",
              "      <th>amzn</th>\n",
              "      <th>orcl</th>\n",
              "      <th>ibm</th>\n",
              "      <th>jnj</th>\n",
              "      <th>cvs</th>\n",
              "      <th>ko</th>\n",
              "    </tr>\n",
              "  </thead>\n",
              "  <tbody>\n",
              "    <tr>\n",
              "      <th>0</th>\n",
              "      <td>2000-11-13</td>\n",
              "      <td>33.34375</td>\n",
              "      <td>34.06250</td>\n",
              "      <td>32.203125</td>\n",
              "      <td>21.444250</td>\n",
              "      <td>83364800</td>\n",
              "      <td>1.204157</td>\n",
              "      <td>27.8125</td>\n",
              "      <td>21.645746</td>\n",
              "      <td>64.482780</td>\n",
              "      <td>28.172709</td>\n",
              "      <td>21.310297</td>\n",
              "      <td>13.498687</td>\n",
              "    </tr>\n",
              "    <tr>\n",
              "      <th>1</th>\n",
              "      <td>2000-11-14</td>\n",
              "      <td>34.00000</td>\n",
              "      <td>34.90625</td>\n",
              "      <td>33.656250</td>\n",
              "      <td>22.210835</td>\n",
              "      <td>84218600</td>\n",
              "      <td>1.258539</td>\n",
              "      <td>28.9375</td>\n",
              "      <td>24.816080</td>\n",
              "      <td>65.847733</td>\n",
              "      <td>28.645721</td>\n",
              "      <td>21.286823</td>\n",
              "      <td>13.388154</td>\n",
              "    </tr>\n",
              "  </tbody>\n",
              "</table>\n",
              "</div>"
            ],
            "text/plain": [
              "        date  open_msft  high_msft   low_msft       msft  volume_msft  \\\n",
              "0 2000-11-13   33.34375   34.06250  32.203125  21.444250     83364800   \n",
              "1 2000-11-14   34.00000   34.90625  33.656250  22.210835     84218600   \n",
              "\n",
              "       aapl     amzn       orcl        ibm        jnj        cvs         ko  \n",
              "0  1.204157  27.8125  21.645746  64.482780  28.172709  21.310297  13.498687  \n",
              "1  1.258539  28.9375  24.816080  65.847733  28.645721  21.286823  13.388154  "
            ]
          },
          "metadata": {
            "tags": []
          },
          "execution_count": 16
        }
      ]
    },
    {
      "cell_type": "code",
      "metadata": {
        "id": "DOw5FZyO9Mqe",
        "colab_type": "code",
        "colab": {},
        "outputId": "4e83699d-697d-4921-ffb0-4e284d141ec6"
      },
      "source": [
        "# Target Corporation (TGT)\n",
        "TGT_df = pd.read_csv (r'C:\\datasets\\TGT.csv') \n",
        "TGT_df = pd.DataFrame(TGT_df, columns= ['Adj Close'])\n",
        "TGT_df.rename(columns={\"Adj Close\":\"tgt\"}, inplace = True)\n",
        "TGT_df.head(2)"
      ],
      "execution_count": 0,
      "outputs": [
        {
          "output_type": "execute_result",
          "data": {
            "text/html": [
              "<div>\n",
              "<style scoped>\n",
              "    .dataframe tbody tr th:only-of-type {\n",
              "        vertical-align: middle;\n",
              "    }\n",
              "\n",
              "    .dataframe tbody tr th {\n",
              "        vertical-align: top;\n",
              "    }\n",
              "\n",
              "    .dataframe thead th {\n",
              "        text-align: right;\n",
              "    }\n",
              "</style>\n",
              "<table border=\"1\" class=\"dataframe\">\n",
              "  <thead>\n",
              "    <tr style=\"text-align: right;\">\n",
              "      <th></th>\n",
              "      <th>tgt</th>\n",
              "    </tr>\n",
              "  </thead>\n",
              "  <tbody>\n",
              "    <tr>\n",
              "      <th>0</th>\n",
              "      <td>18.296497</td>\n",
              "    </tr>\n",
              "    <tr>\n",
              "      <th>1</th>\n",
              "      <td>19.693838</td>\n",
              "    </tr>\n",
              "  </tbody>\n",
              "</table>\n",
              "</div>"
            ],
            "text/plain": [
              "         tgt\n",
              "0  18.296497\n",
              "1  19.693838"
            ]
          },
          "metadata": {
            "tags": []
          },
          "execution_count": 17
        }
      ]
    },
    {
      "cell_type": "code",
      "metadata": {
        "id": "gspE5I8I9Mqh",
        "colab_type": "code",
        "colab": {},
        "outputId": "981bc34d-b4a7-459b-eaa8-9e1649fbf045"
      },
      "source": [
        "df= df.join(TGT_df)\n",
        "df.head(2)"
      ],
      "execution_count": 0,
      "outputs": [
        {
          "output_type": "execute_result",
          "data": {
            "text/html": [
              "<div>\n",
              "<style scoped>\n",
              "    .dataframe tbody tr th:only-of-type {\n",
              "        vertical-align: middle;\n",
              "    }\n",
              "\n",
              "    .dataframe tbody tr th {\n",
              "        vertical-align: top;\n",
              "    }\n",
              "\n",
              "    .dataframe thead th {\n",
              "        text-align: right;\n",
              "    }\n",
              "</style>\n",
              "<table border=\"1\" class=\"dataframe\">\n",
              "  <thead>\n",
              "    <tr style=\"text-align: right;\">\n",
              "      <th></th>\n",
              "      <th>date</th>\n",
              "      <th>open_msft</th>\n",
              "      <th>high_msft</th>\n",
              "      <th>low_msft</th>\n",
              "      <th>msft</th>\n",
              "      <th>volume_msft</th>\n",
              "      <th>aapl</th>\n",
              "      <th>amzn</th>\n",
              "      <th>orcl</th>\n",
              "      <th>ibm</th>\n",
              "      <th>jnj</th>\n",
              "      <th>cvs</th>\n",
              "      <th>ko</th>\n",
              "      <th>tgt</th>\n",
              "    </tr>\n",
              "  </thead>\n",
              "  <tbody>\n",
              "    <tr>\n",
              "      <th>0</th>\n",
              "      <td>2000-11-13</td>\n",
              "      <td>33.34375</td>\n",
              "      <td>34.06250</td>\n",
              "      <td>32.203125</td>\n",
              "      <td>21.444250</td>\n",
              "      <td>83364800</td>\n",
              "      <td>1.204157</td>\n",
              "      <td>27.8125</td>\n",
              "      <td>21.645746</td>\n",
              "      <td>64.482780</td>\n",
              "      <td>28.172709</td>\n",
              "      <td>21.310297</td>\n",
              "      <td>13.498687</td>\n",
              "      <td>18.296497</td>\n",
              "    </tr>\n",
              "    <tr>\n",
              "      <th>1</th>\n",
              "      <td>2000-11-14</td>\n",
              "      <td>34.00000</td>\n",
              "      <td>34.90625</td>\n",
              "      <td>33.656250</td>\n",
              "      <td>22.210835</td>\n",
              "      <td>84218600</td>\n",
              "      <td>1.258539</td>\n",
              "      <td>28.9375</td>\n",
              "      <td>24.816080</td>\n",
              "      <td>65.847733</td>\n",
              "      <td>28.645721</td>\n",
              "      <td>21.286823</td>\n",
              "      <td>13.388154</td>\n",
              "      <td>19.693838</td>\n",
              "    </tr>\n",
              "  </tbody>\n",
              "</table>\n",
              "</div>"
            ],
            "text/plain": [
              "        date  open_msft  high_msft   low_msft       msft  volume_msft  \\\n",
              "0 2000-11-13   33.34375   34.06250  32.203125  21.444250     83364800   \n",
              "1 2000-11-14   34.00000   34.90625  33.656250  22.210835     84218600   \n",
              "\n",
              "       aapl     amzn       orcl        ibm        jnj        cvs         ko  \\\n",
              "0  1.204157  27.8125  21.645746  64.482780  28.172709  21.310297  13.498687   \n",
              "1  1.258539  28.9375  24.816080  65.847733  28.645721  21.286823  13.388154   \n",
              "\n",
              "         tgt  \n",
              "0  18.296497  \n",
              "1  19.693838  "
            ]
          },
          "metadata": {
            "tags": []
          },
          "execution_count": 18
        }
      ]
    },
    {
      "cell_type": "code",
      "metadata": {
        "id": "e7JDH7I09Mqk",
        "colab_type": "code",
        "colab": {},
        "outputId": "62809e34-337f-446f-96db-ebc201ba6104"
      },
      "source": [
        "# Walmart Inc. (WMT)\n",
        "WMT_df = pd.read_csv (r'C:\\datasets\\WMT.csv') \n",
        "WMT_df = pd.DataFrame(WMT_df, columns= ['Adj Close'])\n",
        "WMT_df.rename(columns={\"Adj Close\":\"wmt\"}, inplace = True)\n",
        "WMT_df.head(2)"
      ],
      "execution_count": 0,
      "outputs": [
        {
          "output_type": "execute_result",
          "data": {
            "text/html": [
              "<div>\n",
              "<style scoped>\n",
              "    .dataframe tbody tr th:only-of-type {\n",
              "        vertical-align: middle;\n",
              "    }\n",
              "\n",
              "    .dataframe tbody tr th {\n",
              "        vertical-align: top;\n",
              "    }\n",
              "\n",
              "    .dataframe thead th {\n",
              "        text-align: right;\n",
              "    }\n",
              "</style>\n",
              "<table border=\"1\" class=\"dataframe\">\n",
              "  <thead>\n",
              "    <tr style=\"text-align: right;\">\n",
              "      <th></th>\n",
              "      <th>wmt</th>\n",
              "    </tr>\n",
              "  </thead>\n",
              "  <tbody>\n",
              "    <tr>\n",
              "      <th>0</th>\n",
              "      <td>31.713482</td>\n",
              "    </tr>\n",
              "    <tr>\n",
              "      <th>1</th>\n",
              "      <td>32.807064</td>\n",
              "    </tr>\n",
              "  </tbody>\n",
              "</table>\n",
              "</div>"
            ],
            "text/plain": [
              "         wmt\n",
              "0  31.713482\n",
              "1  32.807064"
            ]
          },
          "metadata": {
            "tags": []
          },
          "execution_count": 19
        }
      ]
    },
    {
      "cell_type": "code",
      "metadata": {
        "id": "yQg66gp19Mqp",
        "colab_type": "code",
        "colab": {},
        "outputId": "89591e61-2176-49e7-d0b7-1cd176b11571"
      },
      "source": [
        "df= df.join(WMT_df)\n",
        "df.head(2)"
      ],
      "execution_count": 0,
      "outputs": [
        {
          "output_type": "execute_result",
          "data": {
            "text/html": [
              "<div>\n",
              "<style scoped>\n",
              "    .dataframe tbody tr th:only-of-type {\n",
              "        vertical-align: middle;\n",
              "    }\n",
              "\n",
              "    .dataframe tbody tr th {\n",
              "        vertical-align: top;\n",
              "    }\n",
              "\n",
              "    .dataframe thead th {\n",
              "        text-align: right;\n",
              "    }\n",
              "</style>\n",
              "<table border=\"1\" class=\"dataframe\">\n",
              "  <thead>\n",
              "    <tr style=\"text-align: right;\">\n",
              "      <th></th>\n",
              "      <th>date</th>\n",
              "      <th>open_msft</th>\n",
              "      <th>high_msft</th>\n",
              "      <th>low_msft</th>\n",
              "      <th>msft</th>\n",
              "      <th>volume_msft</th>\n",
              "      <th>aapl</th>\n",
              "      <th>amzn</th>\n",
              "      <th>orcl</th>\n",
              "      <th>ibm</th>\n",
              "      <th>jnj</th>\n",
              "      <th>cvs</th>\n",
              "      <th>ko</th>\n",
              "      <th>tgt</th>\n",
              "      <th>wmt</th>\n",
              "    </tr>\n",
              "  </thead>\n",
              "  <tbody>\n",
              "    <tr>\n",
              "      <th>0</th>\n",
              "      <td>2000-11-13</td>\n",
              "      <td>33.34375</td>\n",
              "      <td>34.06250</td>\n",
              "      <td>32.203125</td>\n",
              "      <td>21.444250</td>\n",
              "      <td>83364800</td>\n",
              "      <td>1.204157</td>\n",
              "      <td>27.8125</td>\n",
              "      <td>21.645746</td>\n",
              "      <td>64.482780</td>\n",
              "      <td>28.172709</td>\n",
              "      <td>21.310297</td>\n",
              "      <td>13.498687</td>\n",
              "      <td>18.296497</td>\n",
              "      <td>31.713482</td>\n",
              "    </tr>\n",
              "    <tr>\n",
              "      <th>1</th>\n",
              "      <td>2000-11-14</td>\n",
              "      <td>34.00000</td>\n",
              "      <td>34.90625</td>\n",
              "      <td>33.656250</td>\n",
              "      <td>22.210835</td>\n",
              "      <td>84218600</td>\n",
              "      <td>1.258539</td>\n",
              "      <td>28.9375</td>\n",
              "      <td>24.816080</td>\n",
              "      <td>65.847733</td>\n",
              "      <td>28.645721</td>\n",
              "      <td>21.286823</td>\n",
              "      <td>13.388154</td>\n",
              "      <td>19.693838</td>\n",
              "      <td>32.807064</td>\n",
              "    </tr>\n",
              "  </tbody>\n",
              "</table>\n",
              "</div>"
            ],
            "text/plain": [
              "        date  open_msft  high_msft   low_msft       msft  volume_msft  \\\n",
              "0 2000-11-13   33.34375   34.06250  32.203125  21.444250     83364800   \n",
              "1 2000-11-14   34.00000   34.90625  33.656250  22.210835     84218600   \n",
              "\n",
              "       aapl     amzn       orcl        ibm        jnj        cvs         ko  \\\n",
              "0  1.204157  27.8125  21.645746  64.482780  28.172709  21.310297  13.498687   \n",
              "1  1.258539  28.9375  24.816080  65.847733  28.645721  21.286823  13.388154   \n",
              "\n",
              "         tgt        wmt  \n",
              "0  18.296497  31.713482  \n",
              "1  19.693838  32.807064  "
            ]
          },
          "metadata": {
            "tags": []
          },
          "execution_count": 20
        }
      ]
    },
    {
      "cell_type": "code",
      "metadata": {
        "id": "IniorUVu9Mqu",
        "colab_type": "code",
        "colab": {},
        "outputId": "5952c626-8a0c-42f3-dc68-3af522653bfe"
      },
      "source": [
        "# FedEx Corporation (FDX)\n",
        "FDX_df = pd.read_csv (r'C:\\datasets\\FDX.csv') \n",
        "FDX_df = pd.DataFrame(FDX_df, columns= ['Adj Close'])\n",
        "FDX_df.rename(columns={\"Adj Close\":\"fdx\"}, inplace = True)\n",
        "FDX_df.head(2)"
      ],
      "execution_count": 0,
      "outputs": [
        {
          "output_type": "execute_result",
          "data": {
            "text/html": [
              "<div>\n",
              "<style scoped>\n",
              "    .dataframe tbody tr th:only-of-type {\n",
              "        vertical-align: middle;\n",
              "    }\n",
              "\n",
              "    .dataframe tbody tr th {\n",
              "        vertical-align: top;\n",
              "    }\n",
              "\n",
              "    .dataframe thead th {\n",
              "        text-align: right;\n",
              "    }\n",
              "</style>\n",
              "<table border=\"1\" class=\"dataframe\">\n",
              "  <thead>\n",
              "    <tr style=\"text-align: right;\">\n",
              "      <th></th>\n",
              "      <th>fdx</th>\n",
              "    </tr>\n",
              "  </thead>\n",
              "  <tbody>\n",
              "    <tr>\n",
              "      <th>0</th>\n",
              "      <td>40.674557</td>\n",
              "    </tr>\n",
              "    <tr>\n",
              "      <th>1</th>\n",
              "      <td>41.105827</td>\n",
              "    </tr>\n",
              "  </tbody>\n",
              "</table>\n",
              "</div>"
            ],
            "text/plain": [
              "         fdx\n",
              "0  40.674557\n",
              "1  41.105827"
            ]
          },
          "metadata": {
            "tags": []
          },
          "execution_count": 21
        }
      ]
    },
    {
      "cell_type": "code",
      "metadata": {
        "id": "UocSNNMh9Mq2",
        "colab_type": "code",
        "colab": {},
        "outputId": "93bea58a-2d26-419f-f969-6efd502e1182"
      },
      "source": [
        "df= df.join(FDX_df)\n",
        "df.head(2)"
      ],
      "execution_count": 0,
      "outputs": [
        {
          "output_type": "execute_result",
          "data": {
            "text/html": [
              "<div>\n",
              "<style scoped>\n",
              "    .dataframe tbody tr th:only-of-type {\n",
              "        vertical-align: middle;\n",
              "    }\n",
              "\n",
              "    .dataframe tbody tr th {\n",
              "        vertical-align: top;\n",
              "    }\n",
              "\n",
              "    .dataframe thead th {\n",
              "        text-align: right;\n",
              "    }\n",
              "</style>\n",
              "<table border=\"1\" class=\"dataframe\">\n",
              "  <thead>\n",
              "    <tr style=\"text-align: right;\">\n",
              "      <th></th>\n",
              "      <th>date</th>\n",
              "      <th>open_msft</th>\n",
              "      <th>high_msft</th>\n",
              "      <th>low_msft</th>\n",
              "      <th>msft</th>\n",
              "      <th>volume_msft</th>\n",
              "      <th>aapl</th>\n",
              "      <th>amzn</th>\n",
              "      <th>orcl</th>\n",
              "      <th>ibm</th>\n",
              "      <th>jnj</th>\n",
              "      <th>cvs</th>\n",
              "      <th>ko</th>\n",
              "      <th>tgt</th>\n",
              "      <th>wmt</th>\n",
              "      <th>fdx</th>\n",
              "    </tr>\n",
              "  </thead>\n",
              "  <tbody>\n",
              "    <tr>\n",
              "      <th>0</th>\n",
              "      <td>2000-11-13</td>\n",
              "      <td>33.34375</td>\n",
              "      <td>34.06250</td>\n",
              "      <td>32.203125</td>\n",
              "      <td>21.444250</td>\n",
              "      <td>83364800</td>\n",
              "      <td>1.204157</td>\n",
              "      <td>27.8125</td>\n",
              "      <td>21.645746</td>\n",
              "      <td>64.482780</td>\n",
              "      <td>28.172709</td>\n",
              "      <td>21.310297</td>\n",
              "      <td>13.498687</td>\n",
              "      <td>18.296497</td>\n",
              "      <td>31.713482</td>\n",
              "      <td>40.674557</td>\n",
              "    </tr>\n",
              "    <tr>\n",
              "      <th>1</th>\n",
              "      <td>2000-11-14</td>\n",
              "      <td>34.00000</td>\n",
              "      <td>34.90625</td>\n",
              "      <td>33.656250</td>\n",
              "      <td>22.210835</td>\n",
              "      <td>84218600</td>\n",
              "      <td>1.258539</td>\n",
              "      <td>28.9375</td>\n",
              "      <td>24.816080</td>\n",
              "      <td>65.847733</td>\n",
              "      <td>28.645721</td>\n",
              "      <td>21.286823</td>\n",
              "      <td>13.388154</td>\n",
              "      <td>19.693838</td>\n",
              "      <td>32.807064</td>\n",
              "      <td>41.105827</td>\n",
              "    </tr>\n",
              "  </tbody>\n",
              "</table>\n",
              "</div>"
            ],
            "text/plain": [
              "        date  open_msft  high_msft   low_msft       msft  volume_msft  \\\n",
              "0 2000-11-13   33.34375   34.06250  32.203125  21.444250     83364800   \n",
              "1 2000-11-14   34.00000   34.90625  33.656250  22.210835     84218600   \n",
              "\n",
              "       aapl     amzn       orcl        ibm        jnj        cvs         ko  \\\n",
              "0  1.204157  27.8125  21.645746  64.482780  28.172709  21.310297  13.498687   \n",
              "1  1.258539  28.9375  24.816080  65.847733  28.645721  21.286823  13.388154   \n",
              "\n",
              "         tgt        wmt        fdx  \n",
              "0  18.296497  31.713482  40.674557  \n",
              "1  19.693838  32.807064  41.105827  "
            ]
          },
          "metadata": {
            "tags": []
          },
          "execution_count": 22
        }
      ]
    },
    {
      "cell_type": "code",
      "metadata": {
        "id": "fQTJFPTs9Mq6",
        "colab_type": "code",
        "colab": {},
        "outputId": "c54b4175-1fef-4402-b45b-3bb8af2086f1"
      },
      "source": [
        "df.shape\n"
      ],
      "execution_count": 0,
      "outputs": [
        {
          "output_type": "execute_result",
          "data": {
            "text/plain": [
              "(4778, 16)"
            ]
          },
          "metadata": {
            "tags": []
          },
          "execution_count": 23
        }
      ]
    },
    {
      "cell_type": "code",
      "metadata": {
        "id": "lPsj5Xth9Mq8",
        "colab_type": "code",
        "colab": {},
        "outputId": "6db654b5-d4db-4323-9b13-e26d5689fd84"
      },
      "source": [
        "df.dtypes\n"
      ],
      "execution_count": 0,
      "outputs": [
        {
          "output_type": "execute_result",
          "data": {
            "text/plain": [
              "date           datetime64[ns]\n",
              "open_msft             float64\n",
              "high_msft             float64\n",
              "low_msft              float64\n",
              "msft                  float64\n",
              "volume_msft             int64\n",
              "aapl                  float64\n",
              "amzn                  float64\n",
              "orcl                  float64\n",
              "ibm                   float64\n",
              "jnj                   float64\n",
              "cvs                   float64\n",
              "ko                    float64\n",
              "tgt                   float64\n",
              "wmt                   float64\n",
              "fdx                   float64\n",
              "dtype: object"
            ]
          },
          "metadata": {
            "tags": []
          },
          "execution_count": 24
        }
      ]
    },
    {
      "cell_type": "code",
      "metadata": {
        "id": "uj2Hd3F-9Mq_",
        "colab_type": "code",
        "colab": {},
        "outputId": "11aadd8e-be8b-45ee-f4e6-b4128719fa45"
      },
      "source": [
        "# Checking for null values\n",
        "df.isnull().sum()\n"
      ],
      "execution_count": 0,
      "outputs": [
        {
          "output_type": "execute_result",
          "data": {
            "text/plain": [
              "date           0\n",
              "open_msft      0\n",
              "high_msft      0\n",
              "low_msft       0\n",
              "msft           0\n",
              "volume_msft    0\n",
              "aapl           0\n",
              "amzn           0\n",
              "orcl           0\n",
              "ibm            0\n",
              "jnj            0\n",
              "cvs            0\n",
              "ko             0\n",
              "tgt            0\n",
              "wmt            0\n",
              "fdx            0\n",
              "dtype: int64"
            ]
          },
          "metadata": {
            "tags": []
          },
          "execution_count": 25
        }
      ]
    },
    {
      "cell_type": "code",
      "metadata": {
        "id": "FVhogkCp9MrB",
        "colab_type": "code",
        "colab": {},
        "outputId": "c8a68608-15a0-495d-b362-59f2f2925f56"
      },
      "source": [
        "# summary stats\n",
        "print(df.describe())\n"
      ],
      "execution_count": 0,
      "outputs": [
        {
          "output_type": "stream",
          "text": [
            "         open_msft    high_msft     low_msft         msft   volume_msft  \\\n",
            "count  4778.000000  4778.000000  4778.000000  4778.000000  4.778000e+03   \n",
            "mean     41.602737    42.002494    41.194346    35.840448  5.458902e+07   \n",
            "std      27.160511    27.335819    26.925945    29.080210  3.082706e+07   \n",
            "min      15.200000    15.620000    14.870000    11.771113  7.425600e+06   \n",
            "25%      26.370001    26.660000    26.066251    18.945807  3.278650e+07   \n",
            "50%      29.345000    29.650000    29.010000    22.344021  4.995810e+07   \n",
            "75%      45.387501    45.695000    45.002500    40.967460  6.797492e+07   \n",
            "max     145.339996   146.419998   144.729996   146.110001  5.910522e+08   \n",
            "\n",
            "              aapl         amzn         orcl          ibm          jnj  \\\n",
            "count  4778.000000  4778.000000  4778.000000  4778.000000  4778.000000   \n",
            "mean     56.676330   365.203626    25.490906   101.226879    64.691227   \n",
            "std      61.386495   513.445534    13.381424    37.135416    33.373435   \n",
            "min       0.815409     5.970000     6.401894    36.825249    25.545528   \n",
            "25%       5.696986    40.924998    13.024618    63.862595    40.464865   \n",
            "50%      30.895425   130.269997    22.390128    94.809746    47.628464   \n",
            "75%      93.403050   384.647499    36.819360   137.291782    88.916710   \n",
            "max     262.200012  2039.510010    59.641491   167.242981   144.782944   \n",
            "\n",
            "               cvs           ko          tgt          wmt          fdx  \n",
            "count  4778.000000  4778.000000  4778.000000  4778.000000  4778.000000  \n",
            "mean     40.601963    24.371592    45.683253    52.857089   106.364977  \n",
            "std      25.130187    12.640690    17.228988    20.092679    54.144649  \n",
            "min       8.517931     8.803715    18.296497    30.879402    30.952911  \n",
            "25%      21.983009    12.341358    33.096942    37.713664    70.030728  \n",
            "50%      30.288974    19.322445    41.594406    42.861773    87.512119  \n",
            "75%      63.359267    35.396586    55.406506    65.721882   145.516300  \n",
            "max     101.768234    55.365208   113.680000   120.239998   268.354980  \n"
          ],
          "name": "stdout"
        }
      ]
    },
    {
      "cell_type": "markdown",
      "metadata": {
        "id": "mMyCnNZz9MrE",
        "colab_type": "text"
      },
      "source": [
        "# Export the DataFrame to a CSV file"
      ]
    },
    {
      "cell_type": "code",
      "metadata": {
        "id": "2bti7CAO9MrF",
        "colab_type": "code",
        "colab": {}
      },
      "source": [
        "df.to_csv(r'C:\\datasets\\stocks_df.csv')"
      ],
      "execution_count": 0,
      "outputs": []
    }
  ]
}